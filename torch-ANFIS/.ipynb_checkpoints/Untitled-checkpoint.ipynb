{
 "cells": [
  {
   "cell_type": "code",
   "execution_count": 2,
   "metadata": {},
   "outputs": [],
   "source": [
    "import torch\n",
    "import torch.nn.functional as F\n",
    "import matplotlib.pyplot as plt\n",
    "import numpy as np"
   ]
  },
  {
   "cell_type": "code",
   "execution_count": 3,
   "metadata": {},
   "outputs": [],
   "source": [
    "x = torch.unsqueeze(torch.linspace(-1, 1, 100), dim=1)  # x data (tensor), shape=(100, 1)\n",
    "y = x.pow(2) + 0.2*torch.rand(x.size())     "
   ]
  },
  {
   "cell_type": "code",
   "execution_count": 20,
   "metadata": {},
   "outputs": [],
   "source": [
    "class Net(torch.nn.Module):\n",
    "    def __init__(self, n_inputs, n_rules):\n",
    "        super(Net, self).__init__()\n",
    "        self.n = n_inputs\n",
    "        self.m = n_rules\n",
    "#         mu_weight=torch.from_numpy(np.random.uniform(0,1,self.n*self.m)).double()\n",
    "        self.mu = torch.nn.Parameter(torch.as_tensor(torch.empty(5).normal_(mean=0,std=1)))\n",
    "        self.sigma=torch.nn.Parameter(torch.as_tensor(torch.empty(5).normal_(mean=0,std=1)))\n",
    "        self.y=torch.nn.Parameter(torch.as_tensor(torch.unsqueeze(torch.empty(5).normal_(mean=0,std=1), dim=0)))\n",
    "#         self.rul=torch.exp(-0.5*)\n",
    "#         self.rul = tf.reshape(tf.exp(-0.5 * tf.square(tf.subtract(tf.tile(self.inputs, (1, n_rules)), mu)) / tf.square(sigma)),\n",
    "#                        (-1, n_rules, n_inputs))\n",
    "#         self.hidden = torch.nn.Linear(n_feature, n_hidden)   # hidden layer\n",
    "#         self.predict = torch.nn.Linear(n_hidden, n_output)   # output layer\n",
    "        \n",
    "\n",
    "    def forward(self, x):\n",
    "#         x = self.mu*x      # activation function for hidden layer\n",
    "#         x = self.predict(x)             # linear output\n",
    "        self.inputs=torch.tensor(x)\n",
    "        self.rul=torch.prod(torch.reshape(torch.exp(-0.5 * torch.pow(self.inputs.repeat((1, self.m))-self.mu,2)/torch.pow(self.sigma,2)),(-1, self.m, self.n)), axis=2)\n",
    "#         self.rul=torch.pow(self.inputs.repeat((1, self.m))-self.mu,2)\n",
    "        self.num = torch.sum(torch.mul(self.rul, self.y), axis=1)\n",
    "        self.den = torch.clamp(torch.sum(self.rul, axis=1), 1e-12, 1e12)\n",
    "        self.out = torch.div(self.num,self.den)\n",
    "        print(self.den.data.numpy())\n",
    "        x = self.mu*x\n",
    "#         print(self.mu.data.numpy().tolist())\n",
    "#         print(self.sigma.data.numpy().tolist())\n",
    "#         print(self.y.data.numpy().tolist())\n",
    "        return x"
   ]
  },
  {
   "cell_type": "code",
   "execution_count": 21,
   "metadata": {},
   "outputs": [
    {
     "name": "stdout",
     "output_type": "stream",
     "text": [
      "[3.3600307 3.3822656 3.4047995 3.4275968 3.4506173 3.4738178 3.497153\n",
      " 3.5205731 3.5440257 3.5674553 3.5908058 3.614017  3.6370273 3.6597733\n",
      " 3.6821904 3.704213  3.725775  3.746809  3.7672493 3.7870293 3.8060825\n",
      " 3.8243465 3.8417578 3.8582554 3.8737807 3.8882787 3.9016964 3.9139843\n",
      " 3.9250972 3.9349928 3.9436345 3.9509888 3.9570272 3.9617271 3.96507\n",
      " 3.9670422 3.967636  3.9668496 3.964684  3.9611483 3.956255  3.9500217\n",
      " 3.942472  3.9336336 3.9235387 3.9122238 3.8997297 3.8861008 3.8713856\n",
      " 3.8556356 3.838904  3.8212473 3.802725  3.7833967 3.7633247 3.7425718\n",
      " 3.7212017 3.6992772 3.6768622 3.6540203 3.6308136 3.6073034 3.5835495\n",
      " 3.55961   3.535541  3.5113971 3.4872293 3.4630868 3.4390159 3.41506\n",
      " 3.3912587 3.3676503 3.3442674 3.321142  3.2983012 3.2757692 3.2535667\n",
      " 3.2317119 3.21022   3.1891024 3.1683679 3.1480224 3.1280699 3.1085107\n",
      " 3.0893438 3.070565  3.0521688 3.0341468 3.0164902 2.9991877 2.9822268\n",
      " 2.965594  2.949274  2.9332516 2.9175098 2.9020321 2.8868003 2.8717973\n",
      " 2.8570042 2.8424027]\n"
     ]
    },
    {
     "name": "stderr",
     "output_type": "stream",
     "text": [
      "/opt/conda/lib/python3.7/site-packages/ipykernel_launcher.py:20: UserWarning: To copy construct from a tensor, it is recommended to use sourceTensor.clone().detach() or sourceTensor.clone().detach().requires_grad_(True), rather than torch.tensor(sourceTensor).\n"
     ]
    }
   ],
   "source": [
    "torch.manual_seed(19) \n",
    "net = Net(n_inputs=1, n_rules=5)     # define the network\n",
    "optimizer = torch.optim.SGD(net.parameters(), lr=0.2)\n",
    "loss_func = torch.nn.MSELoss()  # this is for regression mean squared loss\n",
    "\n",
    "for t in range(1):\n",
    "    prediction = net(x)     # input x and predict based on x\n",
    "\n",
    "    loss = loss_func(prediction, y)     # must be (1. nn output, 2. target)\n",
    "    optimizer.zero_grad()   # clear gradients for next train\n",
    "    loss.backward()         # backpropagation, compute gradients\n",
    "    optimizer.step()        # apply gradients"
   ]
  },
  {
   "cell_type": "code",
   "execution_count": 28,
   "metadata": {},
   "outputs": [
    {
     "ename": "TypeError",
     "evalue": "__init__() got an unexpected keyword argument 'n_feature'",
     "output_type": "error",
     "traceback": [
      "\u001b[0;31m---------------------------------------------------------------------------\u001b[0m",
      "\u001b[0;31mTypeError\u001b[0m                                 Traceback (most recent call last)",
      "\u001b[0;32m<ipython-input-28-0098af8f8dc7>\u001b[0m in \u001b[0;36m<module>\u001b[0;34m\u001b[0m\n\u001b[0;32m----> 1\u001b[0;31m \u001b[0mnet\u001b[0m \u001b[0;34m=\u001b[0m \u001b[0mNet\u001b[0m\u001b[0;34m(\u001b[0m\u001b[0mn_feature\u001b[0m\u001b[0;34m=\u001b[0m\u001b[0;36m1\u001b[0m\u001b[0;34m,\u001b[0m \u001b[0mn_hidden\u001b[0m\u001b[0;34m=\u001b[0m\u001b[0;36m10\u001b[0m\u001b[0;34m,\u001b[0m \u001b[0mn_output\u001b[0m\u001b[0;34m=\u001b[0m\u001b[0;36m1\u001b[0m\u001b[0;34m)\u001b[0m     \u001b[0;31m# define the network\u001b[0m\u001b[0;34m\u001b[0m\u001b[0;34m\u001b[0m\u001b[0m\n\u001b[0m\u001b[1;32m      2\u001b[0m \u001b[0mprint\u001b[0m\u001b[0;34m(\u001b[0m\u001b[0mnet\u001b[0m\u001b[0;34m)\u001b[0m  \u001b[0;31m# net architecture\u001b[0m\u001b[0;34m\u001b[0m\u001b[0;34m\u001b[0m\u001b[0m\n\u001b[1;32m      3\u001b[0m \u001b[0;34m\u001b[0m\u001b[0m\n\u001b[1;32m      4\u001b[0m \u001b[0moptimizer\u001b[0m \u001b[0;34m=\u001b[0m \u001b[0mtorch\u001b[0m\u001b[0;34m.\u001b[0m\u001b[0moptim\u001b[0m\u001b[0;34m.\u001b[0m\u001b[0mSGD\u001b[0m\u001b[0;34m(\u001b[0m\u001b[0mnet\u001b[0m\u001b[0;34m.\u001b[0m\u001b[0mparameters\u001b[0m\u001b[0;34m(\u001b[0m\u001b[0;34m)\u001b[0m\u001b[0;34m,\u001b[0m \u001b[0mlr\u001b[0m\u001b[0;34m=\u001b[0m\u001b[0;36m0.2\u001b[0m\u001b[0;34m)\u001b[0m\u001b[0;34m\u001b[0m\u001b[0;34m\u001b[0m\u001b[0m\n\u001b[1;32m      5\u001b[0m \u001b[0mloss_func\u001b[0m \u001b[0;34m=\u001b[0m \u001b[0mtorch\u001b[0m\u001b[0;34m.\u001b[0m\u001b[0mnn\u001b[0m\u001b[0;34m.\u001b[0m\u001b[0mMSELoss\u001b[0m\u001b[0;34m(\u001b[0m\u001b[0;34m)\u001b[0m  \u001b[0;31m# this is for regression mean squared loss\u001b[0m\u001b[0;34m\u001b[0m\u001b[0;34m\u001b[0m\u001b[0m\n",
      "\u001b[0;31mTypeError\u001b[0m: __init__() got an unexpected keyword argument 'n_feature'"
     ]
    }
   ],
   "source": [
    "net = Net(n_feature=1, n_hidden=10, n_output=1)     # define the network\n",
    "print(net)  # net architecture\n",
    "\n",
    "optimizer = torch.optim.SGD(net.parameters(), lr=0.2)\n",
    "loss_func = torch.nn.MSELoss()  # this is for regression mean squared loss\n",
    "\n",
    "plt.ion()   # something about plotting\n",
    "\n",
    "for t in range(200):\n",
    "    prediction = net(x)     # input x and predict based on x\n",
    "\n",
    "    loss = loss_func(prediction, y)     # must be (1. nn output, 2. target)\n",
    "\n",
    "    optimizer.zero_grad()   # clear gradients for next train\n",
    "    loss.backward()         # backpropagation, compute gradients\n",
    "    optimizer.step()        # apply gradients\n",
    "\n",
    "    if t % 5 == 0:\n",
    "        # plot and show learning process\n",
    "        plt.cla()\n",
    "        plt.scatter(x.data.numpy(), y.data.numpy())\n",
    "        plt.plot(x.data.numpy(), prediction.data.numpy(), 'r-', lw=5)\n",
    "        plt.text(0.5, 0, 'Loss=%.4f' % loss.data.numpy(), fontdict={'size': 20, 'color':  'red'})\n",
    "        plt.pause(0.1)\n",
    "\n",
    "plt.ioff()\n",
    "plt.show()"
   ]
  },
  {
   "cell_type": "code",
   "execution_count": null,
   "metadata": {},
   "outputs": [],
   "source": []
  }
 ],
 "metadata": {
  "kernelspec": {
   "display_name": "Python 3",
   "language": "python",
   "name": "python3"
  },
  "language_info": {
   "codemirror_mode": {
    "name": "ipython",
    "version": 3
   },
   "file_extension": ".py",
   "mimetype": "text/x-python",
   "name": "python",
   "nbconvert_exporter": "python",
   "pygments_lexer": "ipython3",
   "version": "3.7.3"
  }
 },
 "nbformat": 4,
 "nbformat_minor": 4
}
