{
 "cells": [
  {
   "cell_type": "code",
   "execution_count": 1,
   "metadata": {},
   "outputs": [],
   "source": [
    "import numpy as np\n",
    "import matplotlib.pyplot as plt\n",
    "from pprint import pprint"
   ]
  },
  {
   "cell_type": "code",
   "execution_count": 2,
   "metadata": {},
   "outputs": [
    {
     "data": {
      "image/png": "[encoded data removed]",
      "text/plain": [
       "<Figure size 432x288 with 1 Axes>"
      ]
     },
     "metadata": {
      "needs_background": "light"
     },
     "output_type": "display_data"
    }
   ],
   "source": [
    "# generate random data-set\n",
    "np.random.seed(0)\n",
    "noise = np.random.rand(100)\n",
    "X = np.linspace(0,1, num=100)\n",
    "y = np.power(X, 1)*.5+0.0*noise\n",
    "#y=x^2+ab  Target function  a=0.2\n",
    "\n",
    "\n",
    "# plot\n",
    "plt.scatter(X,y,s=10)\n",
    "plt.xlabel('x')\n",
    "plt.ylabel('y')\n",
    "plt.show()"
   ]
  },
  {
   "cell_type": "markdown",
   "metadata": {},
   "source": [
    "## 切割測試集與驗證集"
   ]
  },
  {
   "cell_type": "code",
   "execution_count": 3,
   "metadata": {},
   "outputs": [],
   "source": [
    "from sklearn.model_selection import train_test_split\n",
    "# X=X.reshape(-1,1)\n",
    "# y=y.reshape(-1,1)\n",
    "X_test  = X\n",
    "y_test = y\n",
    "X_train, X_val, y_train, y_val = train_test_split(X, y, test_size = 0.3, random_state=42)\n",
    "# mg_series=np.append(trnLbls,chkLbls)"
   ]
  },
  {
   "cell_type": "code",
   "execution_count": 4,
   "metadata": {},
   "outputs": [],
   "source": [
    "import torch\n",
    "X = torch.unsqueeze(torch.linspace(-1, 1, 100), dim=1)  # x data (tensor), shape=(100, 1)\n",
    "y = X.pow(2) + 0.2*torch.rand(X.size())   \n",
    "X_train=X.numpy()\n",
    "X_val=X.numpy()\n",
    "y_train=y.numpy()\n",
    "y_val=y.numpy()"
   ]
  },
  {
   "cell_type": "markdown",
   "metadata": {},
   "source": [
    "## ANFIS Model"
   ]
  },
  {
   "cell_type": "code",
   "execution_count": null,
   "metadata": {},
   "outputs": [],
   "source": [
    "import time\n",
    "import tensorflow as tf\n",
    "from anfis import ANFIS\n",
    "\n",
    "# Generate dataset\n",
    "D = 1  # number of regressors\n",
    "T = 1  # delay\n",
    "\n",
    "# ANFIS params and Tensorflow graph initialization\n",
    "m = 5  # number of rules\n",
    "alpha = 0.01 # learning rate\n",
    "\n",
    "fis = ANFIS(n_inputs=D, n_rules=m, learning_rate=alpha)\n",
    "\n",
    "# Training\n",
    "num_epochs = 1\n",
    "\n",
    "# Initialize session to make computations on the Tensorflow graph\n",
    "# Initialize model parameters\n",
    "sess = tf.Session()\n",
    "sess.run(fis.init_variables)\n",
    "trn_costs = []\n",
    "val_costs = []\n",
    "time_start = time.time()\n",
    "for epoch in range(num_epochs):\n",
    "    #  Run an update step\n",
    "    trn_loss, trn_pred = fis.train(sess, X_train, y_train)\n",
    "    # Evaluate on validation set\n",
    "    val_pred, val_loss = fis.infer(sess, X_val, y_val)\n",
    "    if epoch % 10 == 0:\n",
    "        print(\"Train cost after epoch %i: %f\" % (epoch, trn_loss),\"Validation loss: %f\" % val_loss)\n",
    "    if epoch == num_epochs - 1:\n",
    "        time_end = time.time()\n",
    "        print(\"Elapsed time: %f\" % (time_end - time_start))\n",
    "        print(\"Validation loss: %f\" % val_loss)\n",
    "        # Plot real vs. predicted\n",
    "#             pred = np.vstack((np.expand_dims(trn_pred, 1), np.expand_dims(val_pred, 1)))\n",
    "        pred = trn_pred\n",
    "        plt.figure(figsize=(20,5))\n",
    "        plt.plot(y_train)\n",
    "        plt.plot(pred)\n",
    "    trn_costs.append(trn_loss)\n",
    "    val_costs.append(val_loss)\n",
    "\n",
    "    "
   ]
  },
  {
   "cell_type": "code",
   "execution_count": 5,
   "metadata": {},
   "outputs": [
    {
     "name": "stderr",
     "output_type": "stream",
     "text": [
      "/opt/conda/lib/python3.7/site-packages/tensorflow/python/framework/dtypes.py:516: FutureWarning: Passing (type, 1) or '1type' as a synonym of type is deprecated; in a future version of numpy, it will be understood as (type, (1,)) / '(1,)type'.\n",
      "  _np_qint8 = np.dtype([(\"qint8\", np.int8, 1)])\n",
      "/opt/conda/lib/python3.7/site-packages/tensorflow/python/framework/dtypes.py:517: FutureWarning: Passing (type, 1) or '1type' as a synonym of type is deprecated; in a future version of numpy, it will be understood as (type, (1,)) / '(1,)type'.\n",
      "  _np_quint8 = np.dtype([(\"quint8\", np.uint8, 1)])\n",
      "/opt/conda/lib/python3.7/site-packages/tensorflow/python/framework/dtypes.py:518: FutureWarning: Passing (type, 1) or '1type' as a synonym of type is deprecated; in a future version of numpy, it will be understood as (type, (1,)) / '(1,)type'.\n",
      "  _np_qint16 = np.dtype([(\"qint16\", np.int16, 1)])\n",
      "/opt/conda/lib/python3.7/site-packages/tensorflow/python/framework/dtypes.py:519: FutureWarning: Passing (type, 1) or '1type' as a synonym of type is deprecated; in a future version of numpy, it will be understood as (type, (1,)) / '(1,)type'.\n",
      "  _np_quint16 = np.dtype([(\"quint16\", np.uint16, 1)])\n",
      "/opt/conda/lib/python3.7/site-packages/tensorflow/python/framework/dtypes.py:520: FutureWarning: Passing (type, 1) or '1type' as a synonym of type is deprecated; in a future version of numpy, it will be understood as (type, (1,)) / '(1,)type'.\n",
      "  _np_qint32 = np.dtype([(\"qint32\", np.int32, 1)])\n",
      "/opt/conda/lib/python3.7/site-packages/tensorflow/python/framework/dtypes.py:525: FutureWarning: Passing (type, 1) or '1type' as a synonym of type is deprecated; in a future version of numpy, it will be understood as (type, (1,)) / '(1,)type'.\n",
      "  np_resource = np.dtype([(\"resource\", np.ubyte, 1)])\n"
     ]
    },
    {
     "name": "stdout",
     "output_type": "stream",
     "text": [
      "WARNING:tensorflow:From /home/jovyan/ANFIS/tensor-ANFIS/anfis.py:11: The name tf.placeholder is deprecated. Please use tf.compat.v1.placeholder instead.\n",
      "\n",
      "WARNING:tensorflow:From /home/jovyan/ANFIS/tensor-ANFIS/anfis.py:15: The name tf.get_variable is deprecated. Please use tf.compat.v1.get_variable instead.\n",
      "\n",
      "WARNING:tensorflow:From /home/jovyan/ANFIS/tensor-ANFIS/anfis.py:21: The name tf.trainable_variables is deprecated. Please use tf.compat.v1.trainable_variables instead.\n",
      "\n",
      "WARNING:tensorflow:From /home/jovyan/ANFIS/tensor-ANFIS/anfis.py:32: The name tf.losses.mean_squared_error is deprecated. Please use tf.compat.v1.losses.mean_squared_error instead.\n",
      "\n"
     ]
    },
    {
     "name": "stderr",
     "output_type": "stream",
     "text": [
      "/opt/conda/lib/python3.7/site-packages/tensorboard/compat/tensorflow_stub/dtypes.py:541: FutureWarning: Passing (type, 1) or '1type' as a synonym of type is deprecated; in a future version of numpy, it will be understood as (type, (1,)) / '(1,)type'.\n",
      "  _np_qint8 = np.dtype([(\"qint8\", np.int8, 1)])\n",
      "/opt/conda/lib/python3.7/site-packages/tensorboard/compat/tensorflow_stub/dtypes.py:542: FutureWarning: Passing (type, 1) or '1type' as a synonym of type is deprecated; in a future version of numpy, it will be understood as (type, (1,)) / '(1,)type'.\n",
      "  _np_quint8 = np.dtype([(\"quint8\", np.uint8, 1)])\n",
      "/opt/conda/lib/python3.7/site-packages/tensorboard/compat/tensorflow_stub/dtypes.py:543: FutureWarning: Passing (type, 1) or '1type' as a synonym of type is deprecated; in a future version of numpy, it will be understood as (type, (1,)) / '(1,)type'.\n",
      "  _np_qint16 = np.dtype([(\"qint16\", np.int16, 1)])\n",
      "/opt/conda/lib/python3.7/site-packages/tensorboard/compat/tensorflow_stub/dtypes.py:544: FutureWarning: Passing (type, 1) or '1type' as a synonym of type is deprecated; in a future version of numpy, it will be understood as (type, (1,)) / '(1,)type'.\n",
      "  _np_quint16 = np.dtype([(\"quint16\", np.uint16, 1)])\n",
      "/opt/conda/lib/python3.7/site-packages/tensorboard/compat/tensorflow_stub/dtypes.py:545: FutureWarning: Passing (type, 1) or '1type' as a synonym of type is deprecated; in a future version of numpy, it will be understood as (type, (1,)) / '(1,)type'.\n",
      "  _np_qint32 = np.dtype([(\"qint32\", np.int32, 1)])\n",
      "/opt/conda/lib/python3.7/site-packages/tensorboard/compat/tensorflow_stub/dtypes.py:550: FutureWarning: Passing (type, 1) or '1type' as a synonym of type is deprecated; in a future version of numpy, it will be understood as (type, (1,)) / '(1,)type'.\n",
      "  np_resource = np.dtype([(\"resource\", np.ubyte, 1)])\n"
     ]
    },
    {
     "name": "stdout",
     "output_type": "stream",
     "text": [
      "WARNING:tensorflow:From /opt/conda/lib/python3.7/site-packages/tensorflow/python/ops/losses/losses_impl.py:121: add_dispatch_support.<locals>.wrapper (from tensorflow.python.ops.array_ops) is deprecated and will be removed in a future version.\n",
      "Instructions for updating:\n",
      "Use tf.where in 2.0, which has the same broadcast rule as np.where\n",
      "WARNING:tensorflow:From /home/jovyan/ANFIS/tensor-ANFIS/anfis.py:36: The name tf.train.AdamOptimizer is deprecated. Please use tf.compat.v1.train.AdamOptimizer instead.\n",
      "\n",
      "WARNING:tensorflow:From /opt/conda/lib/python3.7/site-packages/tensorflow/python/ops/math_grad.py:175: setdiff1d (from tensorflow.python.ops.array_ops) is deprecated and will be removed after 2018-11-30.\n",
      "Instructions for updating:\n",
      "This op will be removed after the deprecation date. Please switch to tf.sets.difference().\n",
      "WARNING:tensorflow:From /home/jovyan/ANFIS/tensor-ANFIS/anfis.py:44: The name tf.global_variables_initializer is deprecated. Please use tf.compat.v1.global_variables_initializer instead.\n",
      "\n",
      "(100, 5)\n",
      "[[0.934108316898346, 0.4292956292629242, 0.9424623847007751, 0.583996593952179, 0.470167875289917], [0.9366636872291565, 0.44996321201324463, 0.9455535411834717, 0.5724563598632812, 0.477628618478775], [0.9391735792160034, 0.47099190950393677, 0.9485666751861572, 0.5609400868415833, 0.48512715101242065], [0.9416375756263733, 0.4923407733440399, 0.9515007138252258, 0.5494557619094849, 0.4926617443561554], [0.9440553784370422, 0.5139656066894531, 0.9543551802635193, 0.5380107760429382, 0.5002302527427673], [0.9464263319969177, 0.5358190536499023, 0.9571290612220764, 0.5266128182411194, 0.5078307390213013], [0.948750376701355, 0.5578510165214539, 0.9598216414451599, 0.515268862247467, 0.515461266040802], [0.9510269165039062, 0.5800083875656128, 0.9624322652816772, 0.5039860606193542, 0.5231195092201233], [0.9532557129859924, 0.6022351384162903, 0.9649600982666016, 0.49277108907699585, 0.5308034420013428], [0.9554363489151001, 0.6244732141494751, 0.9674046635627747, 0.48163044452667236, 0.5385109186172485], [0.9575685262680054, 0.6466622352600098, 0.9697650671005249, 0.4705706536769867, 0.5462396144866943], [0.9596517086029053, 0.6687396764755249, 0.9720408320426941, 0.4595976173877716, 0.5539873242378235], [0.9616857171058655, 0.6906413435935974, 0.9742311835289001, 0.448717325925827, 0.561751663684845], [0.9636702537536621, 0.7123017311096191, 0.9763356447219849, 0.43793532252311707, 0.5695303678512573], [0.9656049013137817, 0.7336539030075073, 0.9783536195755005, 0.4272569715976715, 0.5773208737373352], [0.9674893617630005, 0.7546306252479553, 0.980284571647644, 0.416687548160553, 0.5851208567619324], [0.9693233370780945, 0.7751638293266296, 0.982127845287323, 0.4062318801879883, 0.592927873134613], [0.9711065888404846, 0.7951856255531311, 0.9838830828666687, 0.39589449763298035, 0.6007392406463623], [0.9728386998176575, 0.8146281838417053, 0.9855497479438782, 0.3856799304485321, 0.6085526347160339], [0.9745194911956787, 0.8334243893623352, 0.9871273040771484, 0.3755923807621002, 0.6163652539253235], [0.9761486649513245, 0.851508378982544, 0.9886153936386108, 0.3656357228755951, 0.6241746544837952], [0.9777259230613708, 0.8688154816627502, 0.990013599395752, 0.35581350326538086, 0.6319780945777893], [0.979250967502594, 0.8852828145027161, 0.9913215637207031, 0.3461293876171112, 0.639772891998291], [0.9807236790657043, 0.9008499383926392, 0.9925387501716614, 0.3365863263607025, 0.6475564241409302], [0.9821436405181885, 0.9154587984085083, 0.9936650991439819, 0.3271874487400055, 0.6553257703781128], [0.9835107326507568, 0.9290540814399719, 0.9947001338005066, 0.31793543696403503, 0.6630783677101135], [0.9848247170448303, 0.9415841698646545, 0.9956434965133667, 0.30883264541625977, 0.6708113551139832], [0.9860853552818298, 0.9530006051063538, 0.9964950680732727, 0.2998815178871155, 0.6785218119621277], [0.987292468547821, 0.9632590413093567, 0.9972545504570007, 0.291083961725235, 0.686207115650177], [0.9884457588195801, 0.9723194241523743, 0.9979217648506165, 0.2824417054653168, 0.6938642263412476], [0.9895451664924622, 0.9801458120346069, 0.9984964728355408, 0.27395644783973694, 0.7014904618263245], [0.9905904531478882, 0.9867072701454163, 0.9989784955978394, 0.2656295597553253, 0.7090827226638794], [0.991581380367279, 0.9919776320457458, 0.9993677735328674, 0.25746211409568787, 0.7166383266448975], [0.9925179481506348, 0.9959357976913452, 0.9996641874313354, 0.24945500493049622, 0.7241541147232056], [0.9933998584747314, 0.9985657930374146, 0.9998676776885986, 0.24160915613174438, 0.731627345085144], [0.9942269921302795, 0.9998571872711182, 0.9999780654907227, 0.23392494022846222, 0.7390550971031189], [0.9949991703033447, 0.9998045563697815, 0.9999954104423523, 0.22640278935432434, 0.7464343309402466], [0.995716392993927, 0.998408317565918, 0.9999197125434875, 0.21904291212558746, 0.7537621259689331], [0.9963784217834473, 0.9956740140914917, 0.9997509121894836, 0.21184518933296204, 0.7610356211662292], [0.9969851970672607, 0.9916125535964966, 0.9994892477989197, 0.2048095315694809, 0.7682517766952515], [0.9975365996360779, 0.9862403869628906, 0.9991346001625061, 0.1979355663061142, 0.7754076719284058], [0.9980325698852539, 0.9795790314674377, 0.9986870884895325, 0.19122274219989777, 0.7825002670288086], [0.9984729886054993, 0.9716548919677734, 0.9981469511985779, 0.18467041850090027, 0.7895268201828003], [0.9988577365875244, 0.9624996185302734, 0.9975142478942871, 0.17827782034873962, 0.796484112739563], [0.9991868734359741, 0.9521490335464478, 0.9967891573905945, 0.17204393446445465, 0.8033695220947266], [0.9994602203369141, 0.9406439065933228, 0.9959719777107239, 0.16596761345863342, 0.8101799488067627], [0.999677836894989, 0.9280287623405457, 0.9950627088546753, 0.1600477695465088, 0.8169124722480774], [0.9998396039009094, 0.914352297782898, 0.9940618276596069, 0.15428289771080017, 0.8235642910003662], [0.9999455213546753, 0.899666428565979, 0.9929695725440979, 0.1486716866493225, 0.8301325440406799], [0.9999955892562866, 0.884026825428009, 0.9917862415313721, 0.1432124674320221, 0.8366143107414246], [0.9999898076057434, 0.867491602897644, 0.9905120730400085, 0.13790348172187805, 0.8430067896842957], [0.9999281764030457, 0.8501214981079102, 0.9891475439071655, 0.13274310529232025, 0.849307119846344], [0.9998105764389038, 0.8319794535636902, 0.9876929521560669, 0.1277293711900711, 0.8555124998092651], [0.999637246131897, 0.813130259513855, 0.9861486554145813, 0.12286029011011124, 0.8616203665733337], [0.9994080662727356, 0.7936399579048157, 0.9845151305198669, 0.11813384294509888, 0.867627739906311], [0.9991231560707092, 0.7735757231712341, 0.9827929139137268, 0.11354798823595047, 0.8735320568084717], [0.9987825155258179, 0.7530055046081543, 0.9809824228286743, 0.10910049825906754, 0.8793305158615112], [0.9983862042427063, 0.7319969534873962, 0.9790841341018677, 0.10478901863098145, 0.8850206732749939], [0.9979342222213745, 0.7106181383132935, 0.9770986437797546, 0.10061139613389969, 0.8905999064445496], [0.9974266886711121, 0.6889365315437317, 0.9750263094902039, 0.09656520187854767, 0.8960654735565186], [0.9968637824058533, 0.667018711566925, 0.9728679060935974, 0.0926479920744896, 0.9014149308204651], [0.9962455630302429, 0.6449303030967712, 0.9706239104270935, 0.08885737508535385, 0.9066460132598877], [0.9955720901489258, 0.6227352619171143, 0.9682950377464294, 0.08519094437360764, 0.9117559790611267], [0.9948434829711914, 0.6004958748817444, 0.9658818244934082, 0.08164605498313904, 0.9167426824569702], [0.9940598607063293, 0.5782724022865295, 0.9633849859237671, 0.0782201811671257, 0.9216036796569824], [0.9932213425636292, 0.5561229586601257, 0.9608051180839539, 0.07491087168455124, 0.9263367056846619], [0.9923281073570251, 0.5341030955314636, 0.9581430554389954, 0.07171549648046494, 0.9309395551681519], [0.9913802742958069, 0.5122657418251038, 0.9553993940353394, 0.06863143295049667, 0.9354099631309509], [0.9903780221939087, 0.49066081643104553, 0.9525749087333679, 0.0656561404466629, 0.9397459626197815], [0.9893215894699097, 0.4693354368209839, 0.9496704339981079, 0.0627870112657547, 0.9439454078674316], [0.988210916519165, 0.4483335018157959, 0.9466867446899414, 0.06002138927578926, 0.9480061531066895], [0.9870463609695435, 0.42769575119018555, 0.9436246156692505, 0.05735672265291214, 0.9519264101982117], [0.9858281016349792, 0.40745967626571655, 0.9404848217964172, 0.05479048937559128, 0.9557043313980103], [0.9845564961433411, 0.3876594007015228, 0.9372682571411133, 0.05232001468539238, 0.9593380093574524], [0.9832313656806946, 0.36832553148269653, 0.9339757561683655, 0.04994276165962219, 0.9628257155418396], [0.9818533062934875, 0.34948548674583435, 0.9306082129478455, 0.047656215727329254, 0.9661656618118286], [0.98042231798172, 0.33116352558135986, 0.9271665215492249, 0.04545782506465912, 0.9693563580513], [0.97893887758255, 0.31338030099868774, 0.9236516356468201, 0.04334505274891853, 0.972396194934845], [0.977402925491333, 0.2961534559726715, 0.920064389705658, 0.04131545498967171, 0.9752837419509888], [0.9758148789405823, 0.2794974446296692, 0.9164057970046997, 0.03936661779880524, 0.9780175685882568], [0.974174976348877, 0.2634236514568329, 0.9126769304275513, 0.03749603033065796, 0.9805961847305298], [0.9724834561347961, 0.2479405403137207, 0.9088784456253052, 0.03570135310292244, 0.9830185770988464], [0.970740795135498, 0.23305384814739227, 0.9050117135047913, 0.033980220556259155, 0.985283374786377], [0.9689469933509827, 0.21876651048660278, 0.9010774493217468, 0.03233031928539276, 0.9873895645141602], [0.9671024680137634, 0.2050790637731552, 0.8970768451690674, 0.030749322846531868, 0.9893360137939453], [0.965207576751709, 0.19198966026306152, 0.8930110335350037, 0.02923502027988434, 0.991121768951416], [0.9632625579833984, 0.17949418723583221, 0.888880729675293, 0.027785200625658035, 0.9927460551261902], [0.9612677693367004, 0.16758623719215393, 0.8846871852874756, 0.026397649198770523, 0.9942079186439514], [0.9592234492301941, 0.15625815093517303, 0.8804315328598022, 0.025070281699299812, 0.995506763458252], [0.9571300148963928, 0.14549985527992249, 0.8761149048805237, 0.02380101941525936, 0.9966419339179993], [0.9549878239631653, 0.13530024886131287, 0.8717382550239563, 0.022587792947888374, 0.997612714767456], [0.9527972340583801, 0.12564656138420105, 0.8673027157783508, 0.021428609266877174, 0.9984188675880432], [0.9505584239959717, 0.11652475595474243, 0.8628094792366028, 0.020321540534496307, 0.999059796333313], [0.9482720494270325, 0.10792002826929092, 0.8582596778869629, 0.01926465518772602, 0.9995352625846863], [0.9459381699562073, 0.09981627017259598, 0.8536543250083923, 0.018256084993481636, 0.9998449683189392], [0.9435575008392334, 0.09219701588153839, 0.8489947319030762, 0.017294036224484444, 0.9999887943267822], [0.9411301016807556, 0.08504485338926315, 0.8442819714546204, 0.01637672446668148, 0.9999667406082153], [0.9386565685272217, 0.07834215462207794, 0.8395172953605652, 0.01550244353711605, 0.999778687953949], [0.9361371994018555, 0.07207071781158447, 0.8347017765045166, 0.014669490978121758, 0.9994248747825623], [0.9335723519325256, 0.06621214002370834, 0.8298366665840149, 0.013876257464289665, 0.9989053606987]]\n"
     ]
    }
   ],
   "source": [
    "import time\n",
    "import tensorflow as tf\n",
    "from anfis import ANFIS\n",
    "from tensorflow import set_random_seed\n",
    "set_random_seed(0)\n",
    "\n",
    "# Generate dataset\n",
    "D = 1  # number of regressors\n",
    "T = 1  # delay\n",
    "\n",
    "# ANFIS params and Tensorflow graph initialization\n",
    "m = 5  # number of rules\n",
    "alpha = 0.01 # learning rate\n",
    "\n",
    "fis = ANFIS(n_inputs=D, n_rules=m, learning_rate=alpha)\n",
    "\n",
    "sess = tf.Session()\n",
    "sess.run(fis.init_variables)\n",
    "# print(sess.run(fis.const_mu))\n",
    "# print(sess.run(fis.sigma))\n",
    "# print(sess.run(fis.y))\n",
    "fis.show(sess,X_train)"
   ]
  },
  {
   "cell_type": "code",
   "execution_count": null,
   "metadata": {},
   "outputs": [],
   "source": [
    "pred=fis.infer(sess, X_test)\n",
    "# plot\n",
    "plt.scatter(X_test,pred, color='r', s=10, label='Predicted')\n",
    "plt.scatter(X_test, y_test, s=10, label='True')\n",
    "plt.xlabel('x')\n",
    "plt.ylabel('y')\n",
    "plt.show()"
   ]
  },
  {
   "cell_type": "code",
   "execution_count": null,
   "metadata": {},
   "outputs": [],
   "source": [
    "plt.plot(np.squeeze(trn_costs))\n",
    "plt.plot(np.squeeze(val_costs))\n",
    "plt.title('Train History')\n",
    "plt.ylabel('loss')\n",
    "plt.xlabel('Epoch')\n",
    "plt.legend(['Train', 'Validation'], loc='upper right')\n",
    "# plt.savefig('./model/exp6-loss.png')\n",
    "plt.show()"
   ]
  },
  {
   "cell_type": "code",
   "execution_count": null,
   "metadata": {},
   "outputs": [],
   "source": [
    "# Plot the cost over epochs\n",
    "plt.figure(2)\n",
    "plt.subplot(2, 1, 1)\n",
    "plt.plot(np.squeeze(trn_costs))\n",
    "plt.title(\"Training loss, Learning rate =\" + str(alpha))\n",
    "plt.subplot(2, 1, 2)\n",
    "plt.plot(np.squeeze(val_costs))\n",
    "plt.title(\"Validation loss, Learning rate =\" + str(alpha))\n",
    "plt.ylabel('Cost')\n",
    "plt.xlabel('Epochs')\n",
    "# Plot resulting membership functions\n",
    "fis.plotmfs(sess)\n",
    "plt.show()"
   ]
  },
  {
   "cell_type": "code",
   "execution_count": null,
   "metadata": {},
   "outputs": [],
   "source": [
    "from sklearn.metrics import mean_squared_error\n",
    "from sklearn.metrics import mean_absolute_error\n",
    "from math import sqrt\n",
    "print('訓練集')\n",
    "pred=fis.infer(sess, X_train)\n",
    "pred=[0 if x<0 else x for x in pred]\n",
    "pred=[1 if x>1 else x for x in pred]\n",
    "print(\"MAE: \",mean_absolute_error(y_train[:,0:1],pred))\n",
    "print(\"MSE: \",(mean_squared_error(y_train[:,0:1],pred)))\n",
    "print(\"RMSE: \",sqrt(mean_squared_error(y_train[:,0:1],pred)))\n",
    "print('驗證集')\n",
    "pred=fis.infer(sess, X_val)\n",
    "pred=[0 if x<0 else x for x in pred]\n",
    "pred=[1 if x>1 else x for x in pred]\n",
    "print(\"MAE: \",mean_absolute_error(y_val[:,0:1],pred))\n",
    "print(\"MSE: \",(mean_squared_error(y_val[:,0:1],pred)))\n",
    "print(\"RMSE: \",sqrt(mean_squared_error(y_val[:,0:1],pred)))\n",
    "print('測試集')\n",
    "pred=fis.infer(sess, X_test)\n",
    "pred=[0 if x<0 else x for x in pred]\n",
    "pred=[1 if x>1 else x for x in pred]\n",
    "print(\"MAE: \",mean_absolute_error(y_test[:,0:1],pred))\n",
    "print(\"MSE: \",(mean_squared_error(y_test[:,0:1],pred)))\n",
    "print(\"RMSE: \",sqrt(mean_squared_error(y_test[:,0:1],pred)))"
   ]
  },
  {
   "cell_type": "markdown",
   "metadata": {},
   "source": [
    "## Save Model"
   ]
  },
  {
   "cell_type": "code",
   "execution_count": null,
   "metadata": {},
   "outputs": [],
   "source": [
    "# fis.save_model(sess,\"./model\")\n",
    "# saver = tf.train.Saver()\n",
    "# saver.save(sess, \"./model/ANFIS-model\")\n",
    "\n",
    "# https://ithelp.ithome.com.tw/articles/10187786"
   ]
  },
  {
   "cell_type": "markdown",
   "metadata": {},
   "source": [
    "## Load Model"
   ]
  },
  {
   "cell_type": "code",
   "execution_count": null,
   "metadata": {},
   "outputs": [],
   "source": [
    "import tensorflow as tf\n",
    "\n",
    "n_inputs = 6\n",
    "n_rules = 128\n",
    "inputs = tf.placeholder(tf.float32, shape=(None, n_inputs))  # Input\n",
    "targets = tf.placeholder(tf.float32, shape=None)  # Desired output\n",
    "mu = tf.get_variable(\"mu\", [n_rules * n_inputs])  # Means of Gaussian MFS\n",
    "sigma = tf.get_variable(\"sigma\", [n_rules * n_inputs])  # Standard deviations of Gaussian MFS\n",
    "y = tf.get_variable(\"y\", [1, n_rules])  # Sequent centers\n",
    "\n",
    "params = tf.trainable_variables()\n",
    "\n",
    "rul = tf.reduce_prod(\n",
    "    tf.reshape(tf.exp(-0.5 * tf.square(tf.subtract(tf.tile(inputs, (1, n_rules)), mu)) / tf.square(sigma)),\n",
    "               (-1, n_rules, n_inputs)), axis=2)  # Rule activations\n",
    "# Fuzzy base expansion function:\n",
    "num = tf.reduce_sum(tf.multiply(rul, y), axis=1)\n",
    "den = tf.clip_by_value(tf.reduce_sum(rul, axis=1), 1e-12, 1e12)\n",
    "out = tf.divide(num, den)\n",
    "\n",
    "\n",
    "with tf.Session() as sess:\n",
    "    new_saver = tf.train.import_meta_graph('./model/ANFIS-model.meta')\n",
    "    new_saver.restore(sess, tf.train.latest_checkpoint('./model')) #載入最近一次儲存的ckpt\n",
    "    #初始化引數\n",
    "    sess.run(tf.global_variables_initializer())\n",
    "    print(sess.run(out))\n",
    "#     sess.run(out, feed_dict={inputs: chkData})"
   ]
  },
  {
   "cell_type": "code",
   "execution_count": null,
   "metadata": {},
   "outputs": [],
   "source": [
    "# 內部測試\n",
    "pred_black=fis.infer(sess, trnData)\n",
    "plt.figure(1)\n",
    "plt.figure(figsize=(20,5))\n",
    "plt.plot(trnLbls[0:25,0:1],c='r')\n",
    "plt.plot(pred_black[0:25],c='b')\n",
    "pred_white=abs(1-pred_black)\n",
    "# plt.figure(2)\n",
    "# plt.figure(figsize=(20,5))\n",
    "plt.plot(trnLbls[0:25,1:2],c='r')\n",
    "plt.plot(pred_white[0:25],c='b')"
   ]
  },
  {
   "cell_type": "code",
   "execution_count": null,
   "metadata": {},
   "outputs": [],
   "source": [
    "pred_black=fis.infer(sess, chkData)\n",
    "plt.figure(1)\n",
    "plt.figure(figsize=(20,5))\n",
    "plt.plot(chkLbls[0:25,0:1],c='r')\n",
    "plt.plot(pred_black[0:25],c='b')\n",
    "pred_white=abs(1-pred_black)\n",
    "# plt.figure(2)\n",
    "# plt.figure(figsize=(20,5))\n",
    "plt.plot(chkLbls[0:25,1:2],c='r')\n",
    "plt.plot(pred_white[0:25],c='b')"
   ]
  },
  {
   "cell_type": "code",
   "execution_count": null,
   "metadata": {},
   "outputs": [],
   "source": [
    "# 內部測試\n",
    "gameID='12'\n",
    "data = pd.read_csv(\"../data/trainData/GameDataG\"+gameID+\".csv\") #load the dataset\n",
    "\n",
    "# 檢查缺失值\n",
    "print(\"Before data clean(NAN mount):\",len(np.where(np.isnan(data))[0]))\n",
    "data=data.dropna()\n",
    "print(\"After data clean(NAN mount):\",len(np.where(np.isnan(data))[0]))\n",
    "# 正規化 MinMaxScaler\n",
    "# data['DBSN']=min_max_scaler.fit_transform(data['DBSN'].values.reshape(-1,1)).reshape(1,-1)[0]\n",
    "# data['DWSN']=min_max_scaler.fit_transform(data['DBSN'].values.reshape(-1,1)).reshape(1,-1)[0]\n",
    "data['DBSN']=quantile_scaler.fit_transform(data['DBSN'].values.reshape(-1,1)).reshape(1,-1)[0]\n",
    "data['DWSN']=quantile_scaler.fit_transform(data['DWSN'].values.reshape(-1,1)).reshape(1,-1)[0]\n",
    "\n",
    "\n",
    "X  = data.drop(['EBWR','EWWR','MoveNo'],axis=1).values\n",
    "y = data[['EBWR','EWWR']].values\n"
   ]
  },
  {
   "cell_type": "code",
   "execution_count": null,
   "metadata": {},
   "outputs": [],
   "source": [
    "xbPreds_black =fis.infer(sess, X)\n",
    "plt.figure(1)\n",
    "plt.figure(figsize=(20,5))\n",
    "plt.plot(y[:,0:1],c='k',label='EBWR(DO)')\n",
    "plt.plot(xbPreds_black,'--',c='k',label='EBWR(AL)')\n",
    "xbPreds_white=abs(1-xbPreds_black)\n",
    "plt.plot(y[:,1:2],c='r',label='EWWR(DO)')\n",
    "plt.plot(xbPreds_white,'--',c='r',label='EWWR(AL)')\n",
    "plt.legend(loc='lower left')\n",
    "step=2\n",
    "arr=np.arange(start=0, stop=len(X)*2, step=4)*step\n",
    "plt.xticks(np.arange(0,len(arr)*2,2*step),(arr))\n",
    "title=\"Game\"+gameID+\" Training Data\"\n",
    "plt.title(title)\n",
    "plt.savefig('../screenshot/'+title+'(v5).png')"
   ]
  },
  {
   "cell_type": "code",
   "execution_count": null,
   "metadata": {},
   "outputs": [],
   "source": [
    "# 外部測試\n",
    "gameID='46'\n",
    "data = pd.read_csv(\"../data/testData/GameDataG\"+gameID+\".csv\") #load the dataset\n",
    "\n",
    "# 檢查缺失值\n",
    "print(\"Before data clean(NAN mount):\",len(np.where(np.isnan(data))[0]))\n",
    "data=data.dropna()\n",
    "print(\"After data clean(NAN mount):\",len(np.where(np.isnan(data))[0]))\n",
    "# 正規化 MinMaxScaler\n",
    "# data['DBSN']=min_max_scaler.fit_transform(data['DBSN'].values.reshape(-1,1)).reshape(1,-1)[0]\n",
    "# data['DWSN']=min_max_scaler.fit_transform(data['DBSN'].values.reshape(-1,1)).reshape(1,-1)[0]\n",
    "data['DBSN']=quantile_scaler.fit_transform(data['DBSN'].values.reshape(-1,1)).reshape(1,-1)[0]\n",
    "data['DWSN']=quantile_scaler.fit_transform(data['DWSN'].values.reshape(-1,1)).reshape(1,-1)[0]\n",
    "\n",
    "\n",
    "X  = data.drop(['EBWR','EWWR','MoveNo'],axis=1).values\n",
    "y = data[['EBWR','EWWR']].values\n"
   ]
  },
  {
   "cell_type": "code",
   "execution_count": null,
   "metadata": {},
   "outputs": [],
   "source": [
    "xbPreds_black =fis.infer(sess, X)\n",
    "plt.figure(1)\n",
    "plt.figure(figsize=(20,5))\n",
    "plt.plot(y[:,0:1],c='k',label='EBWR(DO)')\n",
    "plt.plot(xbPreds_black,'--',c='k',label='EBWR(AL)')\n",
    "xbPreds_white=abs(1-xbPreds_black)\n",
    "plt.plot(y[:,1:2],c='r',label='EWWR(DO)')\n",
    "plt.plot(xbPreds_white,'--',c='r',label='EWWR(AL)')\n",
    "plt.legend(loc='lower left')\n",
    "step=2\n",
    "arr=np.arange(start=0, stop=len(X)*2, step=4)*step\n",
    "plt.xticks(np.arange(0,len(arr)*2,2*step),(arr))\n",
    "title=\"Game\"+gameID+\" Training Data\"\n",
    "plt.title(title)\n",
    "plt.savefig('../screenshot/'+title+'(v5).png')"
   ]
  }
 ],
 "metadata": {
  "kernelspec": {
   "display_name": "Python 3",
   "language": "python",
   "name": "python3"
  },
  "language_info": {
   "codemirror_mode": {
    "name": "ipython",
    "version": 3
   },
   "file_extension": ".py",
   "mimetype": "text/x-python",
   "name": "python",
   "nbconvert_exporter": "python",
   "pygments_lexer": "ipython3",
   "version": "3.7.3"
  }
 },
 "nbformat": 4,
 "nbformat_minor": 4
}
